{
 "cells": [
  {
   "cell_type": "code",
   "execution_count": 1,
   "metadata": {},
   "outputs": [],
   "source": [
    "import pandas as pd\n",
    "import numpy as np\n",
    "import scipy\n",
    "import matplotlib.pyplot as plt"
   ]
  },
  {
   "cell_type": "code",
   "execution_count": 2,
   "metadata": {},
   "outputs": [
    {
     "data": {
      "text/plain": [
       "array([[0., 1., 2., 3., 4.],\n",
       "       [1., 2., 3., 4., 5.]])"
      ]
     },
     "execution_count": 2,
     "metadata": {},
     "output_type": "execute_result"
    }
   ],
   "source": [
    "np.array([1,23,4,4,3,24])\n",
    "A = np.arange(12).reshape(-1,6)\n",
    "np.arange(10, 35, 5).reshape(-1, 5)\n",
    "np.linspace(-12, 1, 5) \n",
    "np.zeros_like(A) \n",
    "np.random.default_rng().random((5, 5))\n",
    "np.random.default_rng().normal(0, 0.25, (5,5))\n",
    "np.fromfunction(lambda i, j: i+j, (2,5))"
   ]
  },
  {
   "cell_type": "code",
   "execution_count": 62,
   "metadata": {},
   "outputs": [
    {
     "data": {
      "text/plain": [
       "(array([[14, 14, 14],\n",
       "        [14, 14, 14],\n",
       "        [14, 14, 14]]),\n",
       " array([[1, 2, 3, 1, 2, 3, 1, 2, 3],\n",
       "        [2, 4, 6, 2, 4, 6, 2, 4, 6],\n",
       "        [3, 6, 9, 3, 6, 9, 3, 6, 9],\n",
       "        [1, 2, 3, 1, 2, 3, 1, 2, 3],\n",
       "        [2, 4, 6, 2, 4, 6, 2, 4, 6],\n",
       "        [3, 6, 9, 3, 6, 9, 3, 6, 9],\n",
       "        [1, 2, 3, 1, 2, 3, 1, 2, 3],\n",
       "        [2, 4, 6, 2, 4, 6, 2, 4, 6],\n",
       "        [3, 6, 9, 3, 6, 9, 3, 6, 9]]))"
      ]
     },
     "execution_count": 62,
     "metadata": {},
     "output_type": "execute_result"
    }
   ],
   "source": [
    "A.sum(axis=0), A.min(axis=1), A.max(axis=1)\n",
    "np.median(A)\n",
    "np.all(A[1] > 3)\n",
    "b = np.array([[8,1,7], [4,3,9], [5,2,6]])\n",
    "np.apply_along_axis(sorted, 0, b)\n",
    "np.argmax(b), np.argmin(b, axis=0)\n",
    "np.bincount(np.array([0, 1, 1, 3, 2, 1, 7]))\n",
    "np.clip(b, 2, 6)\n",
    "np.ceil(np.array([-1.7, 2, -0.2, 0.2])), np.floor(np.array([-1.7, 2, -0.2, 0.2]))\n",
    "np.corrcoef(np.array([[1, 3, 4], [1, 3, 4]])) \n",
    "np.cross([1,2,3], [4,5,6]) # array([-3,  6, -3])\n",
    "np.cumprod([[1,2,3], [4,5,6]], axis=1), np.cumsum([[1,2,3], [4,5,6]], axis=1)\n",
    "h = [[1,2,3],[1,2,3],[1,2,3]]\n",
    "np.inner(h,h), np.outer(h,h) #(3, 3) and (9, 9)\n",
    "np.invert(np.array(0, dtype=np.uint64)) #return the biggest number of type\n",
    "np.lexsort(([9, 4, 0, 4, 0, 2, 1], \n",
    "            [1, 5, 1, 4, 3, 4, 4])) # the last key is primary\n",
    "np.maximum(np.eye(2), [0.5, 2]) # broadcasting\n",
    "np.minimum(np.eye(2), [0.5, 2])\n",
    "np.nonzero(np.array([[0, 1, 0], [5, 6, 1]]) > 1) # (array([1, 1], dtype=int64), array([0, 1], dtype=int64))\n",
    "np.round(2.5), round(3.5)\n",
    "np.sort([[1,4],[3,1]], axis=None) "
   ]
  }
 ],
 "metadata": {
  "kernelspec": {
   "display_name": "test",
   "language": "python",
   "name": "python3"
  },
  "language_info": {
   "codemirror_mode": {
    "name": "ipython",
    "version": 3
   },
   "file_extension": ".py",
   "mimetype": "text/x-python",
   "name": "python",
   "nbconvert_exporter": "python",
   "pygments_lexer": "ipython3",
   "version": "3.12.5"
  }
 },
 "nbformat": 4,
 "nbformat_minor": 2
}
